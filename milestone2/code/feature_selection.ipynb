{
 "cells": [
  {
   "cell_type": "code",
   "execution_count": 199,
   "metadata": {},
   "outputs": [],
   "source": [
    "import pandas as pd\n",
    "from sklearn.feature_selection import VarianceThreshold"
   ]
  },
  {
   "cell_type": "code",
   "execution_count": 204,
   "metadata": {},
   "outputs": [],
   "source": [
    "train= pd.read_csv('data/cases_2021_train_processed_2.csv')\n",
    "test= pd.read_csv('data/cases_2021_test_processed_unlabelled_2.csv')\n"
   ]
  },
  {
   "cell_type": "code",
   "execution_count": 201,
   "metadata": {},
   "outputs": [
    {
     "name": "stdout",
     "output_type": "stream",
     "text": [
      "Train before NA impute: 3621\n",
      "Train after NA impute: 0\n",
      "Test after NA impute: 872\n",
      "Test after NA impute: 0\n"
     ]
    }
   ],
   "source": [
    "import numpy as np\n",
    "print(\"Train before NA impute:\",train[\"province\"].isna().sum())\n",
    "for i,x in train.iterrows():\n",
    "        if(pd.isna(x['province'])):\n",
    "            train.at[i,'province'] = x['country']\n",
    "print('Train after NA impute:',train[\"province\"].isna().sum())\n",
    "train.to_csv('data/cases_2021_train_processed_2.csv',index = False)\n",
    "\n",
    "print('Test after NA impute:',test[\"province\"].isna().sum())\n",
    "for i,x in test.iterrows():\n",
    "        if(pd.isna(x['province'])):\n",
    "            test.at[i,'province'] = x['country']\n",
    "print('Test after NA impute:',test[\"province\"].isna().sum())\n",
    "test.to_csv('data/cases_2021_test_processed_unlabelled_2.csv',index=False)\n",
    "                        "
   ]
  },
  {
   "cell_type": "code",
   "execution_count": null,
   "metadata": {},
   "outputs": [],
   "source": [
    "from sklearn.preprocessing import OrdinalEncoder, LabelEncoder, OneHotEncoder\n",
    "from sklearn.feature_selection import mutual_info_classif as MIC, SelectKBest\n",
    "import matplotlib.pyplot as plt\n",
    "def section_seven():\n",
    "    print(\"Section 7: Calculating MI scores and dropping features\")\n",
    "    clean_train=pd.read_csv('data/train.csv')\n",
    "    clean_test=pd.read_csv('data/cases_2021_test_processed_unlabelled_2.csv')\n",
    "    target_train=clean_train[['outcome_group']].values\n",
    "    le = LabelEncoder()\n",
    "    le.fit(target_train)\n",
    "    target_train_encoding = le.transform(target_train)\n",
    "    data_train2=clean_train[['age','sex','province','country','latitude','longitude','chronic_disease_binary','Confirmed','Deaths','Recovered','Active','Incident_Rate','Case_Fatality_Ratio']].values\n",
    "    numerical_MI = [0,0,0,0,0,0,0,0,0,0,0,0,0]\n",
    "    for i in range(1,15):\n",
    "        mi=MIC(data_train2,target_train_encoding)\n",
    "        numerical_MI = np.add(numerical_MI, mi)\n",
    "    numerical_MI = numerical_MI/i\n",
    "    plt.figure()\n",
    "    plt.bar([i for i in range(len(numerical_MI))], numerical_MI)\n",
    "    plt.show()"
   ]
  },
  {
   "cell_type": "code",
   "execution_count": 202,
   "metadata": {},
   "outputs": [
    {
     "data": {
      "text/plain": [
       "array([ True,  True,  True,  True,  True,  True, False,  True,  True,\n",
       "        True,  True,  True,  True])"
      ]
     },
     "execution_count": 202,
     "metadata": {},
     "output_type": "execute_result"
    }
   ],
   "source": [
    "from sklearn.feature_selection import VarianceThreshold\n",
    "clean_train=pd.read_csv('data/train.csv')\n",
    "var_thr = VarianceThreshold(threshold = 0.10) #Removing both constant and quasi-constant\n",
    "data_train2=clean_train[['age','sex','province','country','latitude','longitude','chronic_disease_binary','Confirmed','Deaths','Recovered','Active','Incident_Rate','Case_Fatality_Ratio']].values\n",
    "var_thr.fit(data_train2)\n",
    "var_thr.get_support()"
   ]
  },
  {
   "cell_type": "code",
   "execution_count": 205,
   "metadata": {},
   "outputs": [],
   "source": [
    "clean_test=pd.read_csv('data/test.csv')\n",
    "clean_test = clean_test.drop(columns='chronic_disease_binary')\n",
    "clean_test = clean_test.drop(columns='date_confirmation')\n",
    "clean_test.to_csv('data/test.csv',index=False)\n"
   ]
  },
  {
   "cell_type": "code",
   "execution_count": null,
   "metadata": {},
   "outputs": [],
   "source": [
    "clean_train=pd.read_csv('data/train.csv')\n",
    "clean_train = clean_train.drop(columns='chronic_disease_binary')\n",
    "clean_train = clean_train.drop(columns='date_confirmation')\n",
    "clean_train.to_csv('data/train.csv',index=False)"
   ]
  },
  {
   "cell_type": "code",
   "execution_count": 195,
   "metadata": {},
   "outputs": [
    {
     "name": "stdout",
     "output_type": "stream",
     "text": [
      "outcome_group\n",
      "0.0      997\n",
      "1.0    13241\n",
      "2.0     2974\n",
      "dtype: int64\n"
     ]
    },
    {
     "ename": "KeyError",
     "evalue": "'outcome_group'",
     "output_type": "error",
     "traceback": [
      "\u001b[1;31m---------------------------------------------------------------------------\u001b[0m",
      "\u001b[1;31mKeyError\u001b[0m                                  Traceback (most recent call last)",
      "\u001b[1;32mc:\\Users\\harry\\data-mining-459\\milestone2\\code\\feature_selection.ipynb Cell 7'\u001b[0m in \u001b[0;36m<module>\u001b[1;34m\u001b[0m\n\u001b[0;32m      <a href='vscode-notebook-cell:/c%3A/Users/harry/data-mining-459/milestone2/code/feature_selection.ipynb#ch0000011?line=0'>1</a>\u001b[0m \u001b[39mprint\u001b[39m(clean_train\u001b[39m.\u001b[39mgroupby(\u001b[39m'\u001b[39m\u001b[39moutcome_group\u001b[39m\u001b[39m'\u001b[39m)\u001b[39m.\u001b[39msize())\n\u001b[1;32m----> <a href='vscode-notebook-cell:/c%3A/Users/harry/data-mining-459/milestone2/code/feature_selection.ipynb#ch0000011?line=1'>2</a>\u001b[0m \u001b[39mprint\u001b[39m(clean_test\u001b[39m.\u001b[39;49mgroupby(\u001b[39m'\u001b[39;49m\u001b[39moutcome_group\u001b[39;49m\u001b[39m'\u001b[39;49m)\u001b[39m.\u001b[39msize())\n",
      "File \u001b[1;32m~\\AppData\\Local\\Programs\\Python\\Python310\\lib\\site-packages\\pandas\\core\\frame.py:7714\u001b[0m, in \u001b[0;36mDataFrame.groupby\u001b[1;34m(self, by, axis, level, as_index, sort, group_keys, squeeze, observed, dropna)\u001b[0m\n\u001b[0;32m   <a href='file:///c%3A/Users/harry/AppData/Local/Programs/Python/Python310/lib/site-packages/pandas/core/frame.py?line=7708'>7709</a>\u001b[0m axis \u001b[39m=\u001b[39m \u001b[39mself\u001b[39m\u001b[39m.\u001b[39m_get_axis_number(axis)\n\u001b[0;32m   <a href='file:///c%3A/Users/harry/AppData/Local/Programs/Python/Python310/lib/site-packages/pandas/core/frame.py?line=7710'>7711</a>\u001b[0m \u001b[39m# https://github.com/python/mypy/issues/7642\u001b[39;00m\n\u001b[0;32m   <a href='file:///c%3A/Users/harry/AppData/Local/Programs/Python/Python310/lib/site-packages/pandas/core/frame.py?line=7711'>7712</a>\u001b[0m \u001b[39m# error: Argument \"squeeze\" to \"DataFrameGroupBy\" has incompatible type\u001b[39;00m\n\u001b[0;32m   <a href='file:///c%3A/Users/harry/AppData/Local/Programs/Python/Python310/lib/site-packages/pandas/core/frame.py?line=7712'>7713</a>\u001b[0m \u001b[39m# \"Union[bool, NoDefault]\"; expected \"bool\"\u001b[39;00m\n\u001b[1;32m-> <a href='file:///c%3A/Users/harry/AppData/Local/Programs/Python/Python310/lib/site-packages/pandas/core/frame.py?line=7713'>7714</a>\u001b[0m \u001b[39mreturn\u001b[39;00m DataFrameGroupBy(\n\u001b[0;32m   <a href='file:///c%3A/Users/harry/AppData/Local/Programs/Python/Python310/lib/site-packages/pandas/core/frame.py?line=7714'>7715</a>\u001b[0m     obj\u001b[39m=\u001b[39;49m\u001b[39mself\u001b[39;49m,\n\u001b[0;32m   <a href='file:///c%3A/Users/harry/AppData/Local/Programs/Python/Python310/lib/site-packages/pandas/core/frame.py?line=7715'>7716</a>\u001b[0m     keys\u001b[39m=\u001b[39;49mby,\n\u001b[0;32m   <a href='file:///c%3A/Users/harry/AppData/Local/Programs/Python/Python310/lib/site-packages/pandas/core/frame.py?line=7716'>7717</a>\u001b[0m     axis\u001b[39m=\u001b[39;49maxis,\n\u001b[0;32m   <a href='file:///c%3A/Users/harry/AppData/Local/Programs/Python/Python310/lib/site-packages/pandas/core/frame.py?line=7717'>7718</a>\u001b[0m     level\u001b[39m=\u001b[39;49mlevel,\n\u001b[0;32m   <a href='file:///c%3A/Users/harry/AppData/Local/Programs/Python/Python310/lib/site-packages/pandas/core/frame.py?line=7718'>7719</a>\u001b[0m     as_index\u001b[39m=\u001b[39;49mas_index,\n\u001b[0;32m   <a href='file:///c%3A/Users/harry/AppData/Local/Programs/Python/Python310/lib/site-packages/pandas/core/frame.py?line=7719'>7720</a>\u001b[0m     sort\u001b[39m=\u001b[39;49msort,\n\u001b[0;32m   <a href='file:///c%3A/Users/harry/AppData/Local/Programs/Python/Python310/lib/site-packages/pandas/core/frame.py?line=7720'>7721</a>\u001b[0m     group_keys\u001b[39m=\u001b[39;49mgroup_keys,\n\u001b[0;32m   <a href='file:///c%3A/Users/harry/AppData/Local/Programs/Python/Python310/lib/site-packages/pandas/core/frame.py?line=7721'>7722</a>\u001b[0m     squeeze\u001b[39m=\u001b[39;49msqueeze,  \u001b[39m# type: ignore[arg-type]\u001b[39;49;00m\n\u001b[0;32m   <a href='file:///c%3A/Users/harry/AppData/Local/Programs/Python/Python310/lib/site-packages/pandas/core/frame.py?line=7722'>7723</a>\u001b[0m     observed\u001b[39m=\u001b[39;49mobserved,\n\u001b[0;32m   <a href='file:///c%3A/Users/harry/AppData/Local/Programs/Python/Python310/lib/site-packages/pandas/core/frame.py?line=7723'>7724</a>\u001b[0m     dropna\u001b[39m=\u001b[39;49mdropna,\n\u001b[0;32m   <a href='file:///c%3A/Users/harry/AppData/Local/Programs/Python/Python310/lib/site-packages/pandas/core/frame.py?line=7724'>7725</a>\u001b[0m )\n",
      "File \u001b[1;32m~\\AppData\\Local\\Programs\\Python\\Python310\\lib\\site-packages\\pandas\\core\\groupby\\groupby.py:882\u001b[0m, in \u001b[0;36mGroupBy.__init__\u001b[1;34m(self, obj, keys, axis, level, grouper, exclusions, selection, as_index, sort, group_keys, squeeze, observed, mutated, dropna)\u001b[0m\n\u001b[0;32m    <a href='file:///c%3A/Users/harry/AppData/Local/Programs/Python/Python310/lib/site-packages/pandas/core/groupby/groupby.py?line=878'>879</a>\u001b[0m \u001b[39mif\u001b[39;00m grouper \u001b[39mis\u001b[39;00m \u001b[39mNone\u001b[39;00m:\n\u001b[0;32m    <a href='file:///c%3A/Users/harry/AppData/Local/Programs/Python/Python310/lib/site-packages/pandas/core/groupby/groupby.py?line=879'>880</a>\u001b[0m     \u001b[39mfrom\u001b[39;00m \u001b[39mpandas\u001b[39;00m\u001b[39m.\u001b[39;00m\u001b[39mcore\u001b[39;00m\u001b[39m.\u001b[39;00m\u001b[39mgroupby\u001b[39;00m\u001b[39m.\u001b[39;00m\u001b[39mgrouper\u001b[39;00m \u001b[39mimport\u001b[39;00m get_grouper\n\u001b[1;32m--> <a href='file:///c%3A/Users/harry/AppData/Local/Programs/Python/Python310/lib/site-packages/pandas/core/groupby/groupby.py?line=881'>882</a>\u001b[0m     grouper, exclusions, obj \u001b[39m=\u001b[39m get_grouper(\n\u001b[0;32m    <a href='file:///c%3A/Users/harry/AppData/Local/Programs/Python/Python310/lib/site-packages/pandas/core/groupby/groupby.py?line=882'>883</a>\u001b[0m         obj,\n\u001b[0;32m    <a href='file:///c%3A/Users/harry/AppData/Local/Programs/Python/Python310/lib/site-packages/pandas/core/groupby/groupby.py?line=883'>884</a>\u001b[0m         keys,\n\u001b[0;32m    <a href='file:///c%3A/Users/harry/AppData/Local/Programs/Python/Python310/lib/site-packages/pandas/core/groupby/groupby.py?line=884'>885</a>\u001b[0m         axis\u001b[39m=\u001b[39;49maxis,\n\u001b[0;32m    <a href='file:///c%3A/Users/harry/AppData/Local/Programs/Python/Python310/lib/site-packages/pandas/core/groupby/groupby.py?line=885'>886</a>\u001b[0m         level\u001b[39m=\u001b[39;49mlevel,\n\u001b[0;32m    <a href='file:///c%3A/Users/harry/AppData/Local/Programs/Python/Python310/lib/site-packages/pandas/core/groupby/groupby.py?line=886'>887</a>\u001b[0m         sort\u001b[39m=\u001b[39;49msort,\n\u001b[0;32m    <a href='file:///c%3A/Users/harry/AppData/Local/Programs/Python/Python310/lib/site-packages/pandas/core/groupby/groupby.py?line=887'>888</a>\u001b[0m         observed\u001b[39m=\u001b[39;49mobserved,\n\u001b[0;32m    <a href='file:///c%3A/Users/harry/AppData/Local/Programs/Python/Python310/lib/site-packages/pandas/core/groupby/groupby.py?line=888'>889</a>\u001b[0m         mutated\u001b[39m=\u001b[39;49m\u001b[39mself\u001b[39;49m\u001b[39m.\u001b[39;49mmutated,\n\u001b[0;32m    <a href='file:///c%3A/Users/harry/AppData/Local/Programs/Python/Python310/lib/site-packages/pandas/core/groupby/groupby.py?line=889'>890</a>\u001b[0m         dropna\u001b[39m=\u001b[39;49m\u001b[39mself\u001b[39;49m\u001b[39m.\u001b[39;49mdropna,\n\u001b[0;32m    <a href='file:///c%3A/Users/harry/AppData/Local/Programs/Python/Python310/lib/site-packages/pandas/core/groupby/groupby.py?line=890'>891</a>\u001b[0m     )\n\u001b[0;32m    <a href='file:///c%3A/Users/harry/AppData/Local/Programs/Python/Python310/lib/site-packages/pandas/core/groupby/groupby.py?line=892'>893</a>\u001b[0m \u001b[39mself\u001b[39m\u001b[39m.\u001b[39mobj \u001b[39m=\u001b[39m obj\n\u001b[0;32m    <a href='file:///c%3A/Users/harry/AppData/Local/Programs/Python/Python310/lib/site-packages/pandas/core/groupby/groupby.py?line=893'>894</a>\u001b[0m \u001b[39mself\u001b[39m\u001b[39m.\u001b[39maxis \u001b[39m=\u001b[39m obj\u001b[39m.\u001b[39m_get_axis_number(axis)\n",
      "File \u001b[1;32m~\\AppData\\Local\\Programs\\Python\\Python310\\lib\\site-packages\\pandas\\core\\groupby\\grouper.py:882\u001b[0m, in \u001b[0;36mget_grouper\u001b[1;34m(obj, key, axis, level, sort, observed, mutated, validate, dropna)\u001b[0m\n\u001b[0;32m    <a href='file:///c%3A/Users/harry/AppData/Local/Programs/Python/Python310/lib/site-packages/pandas/core/groupby/grouper.py?line=879'>880</a>\u001b[0m         in_axis, level, gpr \u001b[39m=\u001b[39m \u001b[39mFalse\u001b[39;00m, gpr, \u001b[39mNone\u001b[39;00m\n\u001b[0;32m    <a href='file:///c%3A/Users/harry/AppData/Local/Programs/Python/Python310/lib/site-packages/pandas/core/groupby/grouper.py?line=880'>881</a>\u001b[0m     \u001b[39melse\u001b[39;00m:\n\u001b[1;32m--> <a href='file:///c%3A/Users/harry/AppData/Local/Programs/Python/Python310/lib/site-packages/pandas/core/groupby/grouper.py?line=881'>882</a>\u001b[0m         \u001b[39mraise\u001b[39;00m \u001b[39mKeyError\u001b[39;00m(gpr)\n\u001b[0;32m    <a href='file:///c%3A/Users/harry/AppData/Local/Programs/Python/Python310/lib/site-packages/pandas/core/groupby/grouper.py?line=882'>883</a>\u001b[0m \u001b[39melif\u001b[39;00m \u001b[39misinstance\u001b[39m(gpr, Grouper) \u001b[39mand\u001b[39;00m gpr\u001b[39m.\u001b[39mkey \u001b[39mis\u001b[39;00m \u001b[39mnot\u001b[39;00m \u001b[39mNone\u001b[39;00m:\n\u001b[0;32m    <a href='file:///c%3A/Users/harry/AppData/Local/Programs/Python/Python310/lib/site-packages/pandas/core/groupby/grouper.py?line=883'>884</a>\u001b[0m     \u001b[39m# Add key to exclusions\u001b[39;00m\n\u001b[0;32m    <a href='file:///c%3A/Users/harry/AppData/Local/Programs/Python/Python310/lib/site-packages/pandas/core/groupby/grouper.py?line=884'>885</a>\u001b[0m     exclusions\u001b[39m.\u001b[39madd(gpr\u001b[39m.\u001b[39mkey)\n",
      "\u001b[1;31mKeyError\u001b[0m: 'outcome_group'"
     ]
    }
   ],
   "source": [
    "print(clean_train.groupby('outcome_group').size())\n",
    "print(clean_test.groupby('outcome_group').size())"
   ]
  }
 ],
 "metadata": {
  "interpreter": {
   "hash": "e9459b1da317a19004733456e1fe21eb72f943d505bb677eecb601d069b093f6"
  },
  "kernelspec": {
   "display_name": "Python 3.10.2 64-bit",
   "language": "python",
   "name": "python3"
  },
  "language_info": {
   "codemirror_mode": {
    "name": "ipython",
    "version": 3
   },
   "file_extension": ".py",
   "mimetype": "text/x-python",
   "name": "python",
   "nbconvert_exporter": "python",
   "pygments_lexer": "ipython3",
   "version": "3.10.2"
  },
  "orig_nbformat": 4
 },
 "nbformat": 4,
 "nbformat_minor": 2
}
