{
 "cells": [
  {
   "cell_type": "code",
   "execution_count": 1,
   "metadata": {},
   "outputs": [],
   "source": [
    "import pandas as pd\n",
    "import os\n",
    "cases_train= pd.read_csv('data/cases_2021_train_processed_2.csv')\n",
    "cases_test= pd.read_csv('data/cases_2021_test_processed_unlabelled_2.csv')\n"
   ]
  },
  {
   "cell_type": "markdown",
   "metadata": {},
   "source": [
    "# Pre-Processing"
   ]
  },
  {
   "cell_type": "markdown",
   "metadata": {},
   "source": [
    "## Selecting Features "
   ]
  },
  {
   "cell_type": "code",
   "execution_count": 2,
   "metadata": {},
   "outputs": [],
   "source": [
    "cases_train = cases_train.drop(columns='date_confirmation')\n",
    "cases_train = cases_train.drop(columns='province')\n",
    "cases_train.to_csv('data/ctrain.csv',index=False)\n",
    "cases_test = cases_test.drop(columns='date_confirmation')\n",
    "cases_test = cases_test.drop(columns='province')\n",
    "cases_test.to_csv('data/ctest.csv',index=False)"
   ]
  },
  {
   "cell_type": "markdown",
   "metadata": {},
   "source": [
    "## Balancing Data"
   ]
  },
  {
   "cell_type": "code",
   "execution_count": 31,
   "metadata": {},
   "outputs": [
    {
     "name": "stdout",
     "output_type": "stream",
     "text": [
      "Total Samples Before Balancing:  17212 Distribution of Classes: Counter({'hospitalized': 13241, 'nonhospitalized': 2974, 'deceased': 997})\n"
     ]
    }
   ],
   "source": [
    "#%pip install imbalanced-learn\n",
    "import imblearn\n",
    "from imblearn.over_sampling import SMOTE\n",
    "from imblearn.under_sampling import RandomUnderSampler \n",
    "from imblearn.over_sampling import RandomOverSampler\n",
    "from collections import Counter\n",
    "from sklearn.preprocessing import OrdinalEncoder\n",
    "import numpy as np\n",
    "train= pd.read_csv('data/ctrain.csv')\n",
    "test= pd.read_csv('data/ctest.csv')"
   ]
  },
  {
   "cell_type": "markdown",
   "metadata": {},
   "source": [
    "# Encoding"
   ]
  },
  {
   "cell_type": "code",
   "execution_count": 18,
   "metadata": {},
   "outputs": [],
   "source": [
    "enc=OrdinalEncoder()\n",
    "train['sex']=enc.fit_transform(train[['sex']])\n",
    "test['sex']=enc.fit_transform(test[['sex']])\n",
    "countries_train=enc.fit_transform(train[['country']])\n",
    "train['outcome_group']=enc.fit_transform(train[['outcome_group']])\n",
    "train['chronic_disease_binary']=enc.fit_transform(train[['chronic_disease_binary']])\n",
    "test['chronic_disease_binary']=enc.fit_transform(test[['chronic_disease_binary']])"
   ]
  },
  {
   "cell_type": "code",
   "execution_count": 20,
   "metadata": {},
   "outputs": [],
   "source": [
    "allcountries=np.append(train['country'],test['country'])\n",
    "data=pd.DataFrame(allcountries, columns=['country'])\n",
    "data['encoding']=enc.fit_transform(data[['country']])\n",
    "data['encoding'].astype('str')\n",
    "data=data.drop_duplicates()"
   ]
  },
  {
   "cell_type": "code",
   "execution_count": 23,
   "metadata": {},
   "outputs": [],
   "source": [
    "for i in range(39):\n",
    "    test.loc[test['country']==data['country'].iloc[i],'country']=data['encoding'].iloc[i]\n",
    "    train.loc[train['country']==data['country'].iloc[i],'country']=data['encoding'].iloc[i]"
   ]
  },
  {
   "cell_type": "markdown",
   "metadata": {},
   "source": [
    "# Balancing"
   ]
  },
  {
   "cell_type": "code",
   "execution_count": null,
   "metadata": {},
   "outputs": [],
   "source": [
    "labels = train.loc[:,train.columns == 'outcome_group']\n",
    "features = train.loc[:,train.columns != 'outcome_group']\n",
    "counter = Counter(labels['outcome_group'])\n",
    "print(\"Total Samples Before Balancing: \",len(train), \"Distribution of Classes:\", counter)\n",
    "over = RandomOverSampler({2.0:5680 ,0.0:5680})\n",
    "under = RandomUnderSampler({1.0:5680})\n",
    "features,labels = under.fit_resample(features,labels)\n",
    "features,labels = over.fit_resample(features,labels)\n",
    "counter = Counter(labels['outcome_group'])\n",
    "features['outcome_group'] = labels['outcome_group']\n",
    "train = features\n",
    "print(\"Total Samples After Balancing: \",len(train), \"Distribution of Classes:\", counter)"
   ]
  },
  {
   "cell_type": "code",
   "execution_count": null,
   "metadata": {},
   "outputs": [],
   "source": [
    "train.to_csv('data/train.csv',index=False)\n",
    "test.to_csv('data/test.csv',index=False)"
   ]
  }
 ],
 "metadata": {
  "interpreter": {
   "hash": "e9459b1da317a19004733456e1fe21eb72f943d505bb677eecb601d069b093f6"
  },
  "kernelspec": {
   "display_name": "Python 3.10.2 64-bit",
   "language": "python",
   "name": "python3"
  },
  "language_info": {
   "codemirror_mode": {
    "name": "ipython",
    "version": 3
   },
   "file_extension": ".py",
   "mimetype": "text/x-python",
   "name": "python",
   "nbconvert_exporter": "python",
   "pygments_lexer": "ipython3",
   "version": "3.7.11"
  },
  "orig_nbformat": 4
 },
 "nbformat": 4,
 "nbformat_minor": 2
}
