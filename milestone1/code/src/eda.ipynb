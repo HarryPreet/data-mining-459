{
 "cells": [
  {
   "cell_type": "markdown",
   "metadata": {},
   "source": [
    "# Importing Packages"
   ]
  },
  {
   "cell_type": "code",
   "execution_count": null,
   "metadata": {},
   "outputs": [],
   "source": [
    "import pandas as pd\n",
    "import numpy as np"
   ]
  },
  {
   "cell_type": "markdown",
   "metadata": {},
   "source": [
    "# 1.1 Cleaning Messy Outcome Labels\n",
    "1. Loading the cases"
   ]
  },
  {
   "cell_type": "code",
   "execution_count": null,
   "metadata": {},
   "outputs": [],
   "source": [
    "cases_train = pd.read_csv('../data/cases_2021_train.csv')\n",
    "cases_train.head()"
   ]
  },
  {
   "cell_type": "markdown",
   "metadata": {},
   "source": [
    "2. Outcome Distribution"
   ]
  },
  {
   "cell_type": "code",
   "execution_count": null,
   "metadata": {},
   "outputs": [],
   "source": [
    "cases_train.groupby('outcome').size()"
   ]
  },
  {
   "cell_type": "markdown",
   "metadata": {},
   "source": [
    "3. Filling Outcome_Group \n"
   ]
  },
  {
   "cell_type": "code",
   "execution_count": null,
   "metadata": {},
   "outputs": [],
   "source": [
    "hospitalzed = ['Discharged', 'Discharged from hospital', 'Hospitalized', 'critical condition',\n",
    "'discharge', 'discharged']\n",
    "nonhospitalized = ['Alive', 'Receiving Treatment', 'Stable', 'Under treatment', 'recovering at home 03.03.2020', 'released from quarantine', 'stable', 'stable condition']\n",
    "deceased = ['Dead', 'Death', 'Deceased', 'Died', 'death', 'died']\n",
    "recovered = ['Recovered','recovered']\n",
    "cases_train.loc[cases_train[\"outcome\"].isin(hospitalzed), \"outcome_group\"] ='hospitalized'\n",
    "cases_train.loc[cases_train[\"outcome\"].isin(nonhospitalized), \"outcome_group\"] ='nonhospitalized'\n",
    "cases_train.loc[cases_train[\"outcome\"].isin(deceased), \"outcome_group\"] ='deceased'\n",
    "cases_train.loc[cases_train[\"outcome\"].isin(recovered), \"outcome_group\"] ='recovered'\n",
    "print(cases_train.groupby('outcome_group').size())\n",
    "cases_train = cases_train.drop(columns=\"outcome\")\n",
    "cases_train.head()"
   ]
  }
 ],
 "metadata": {
  "interpreter": {
   "hash": "a5f2fe64a01ade51df13e149dbdf251b7a9f0bed0f582738ebc409b556af8acf"
  },
  "kernelspec": {
   "display_name": "Python 3.7.11 64-bit ('cmpt459': conda)",
   "language": "python",
   "name": "python3"
  },
  "language_info": {
   "codemirror_mode": {
    "name": "ipython",
    "version": 3
   },
   "file_extension": ".py",
   "mimetype": "text/x-python",
   "name": "python",
   "nbconvert_exporter": "python",
   "pygments_lexer": "ipython3",
   "version": "3.7.11"
  },
  "orig_nbformat": 4
 },
 "nbformat": 4,
 "nbformat_minor": 2
}
