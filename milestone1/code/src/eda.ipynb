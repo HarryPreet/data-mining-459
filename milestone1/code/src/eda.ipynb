{
 "cells": [
  {
   "cell_type": "markdown",
   "metadata": {},
   "source": [
    "# Importing Packages"
   ]
  },
  {
   "cell_type": "code",
   "execution_count": 1,
   "metadata": {},
   "outputs": [],
   "source": [
    "import pandas as pd\n",
    "import numpy as np\n",
    "import matplotlib.pyplot as plt\n",
    "import matplotlib.dates as mdates\n",
    "from matplotlib.ticker import AutoLocator\n",
    "%matplotlib inline"
   ]
  },
  {
   "cell_type": "markdown",
   "metadata": {},
   "source": [
    "# 1.1 Cleaning Messy Outcome Labels\n",
    "1. Loading the cases"
   ]
  },
  {
   "cell_type": "code",
   "execution_count": 2,
   "metadata": {},
   "outputs": [
    {
     "data": {
      "text/html": [
       "<div>\n",
       "<style scoped>\n",
       "    .dataframe tbody tr th:only-of-type {\n",
       "        vertical-align: middle;\n",
       "    }\n",
       "\n",
       "    .dataframe tbody tr th {\n",
       "        vertical-align: top;\n",
       "    }\n",
       "\n",
       "    .dataframe thead th {\n",
       "        text-align: right;\n",
       "    }\n",
       "</style>\n",
       "<table border=\"1\" class=\"dataframe\">\n",
       "  <thead>\n",
       "    <tr style=\"text-align: right;\">\n",
       "      <th></th>\n",
       "      <th>age</th>\n",
       "      <th>sex</th>\n",
       "      <th>province</th>\n",
       "      <th>country</th>\n",
       "      <th>latitude</th>\n",
       "      <th>longitude</th>\n",
       "      <th>date_confirmation</th>\n",
       "      <th>additional_information</th>\n",
       "      <th>source</th>\n",
       "      <th>chronic_disease_binary</th>\n",
       "      <th>outcome</th>\n",
       "      <th>outcome_group</th>\n",
       "    </tr>\n",
       "  </thead>\n",
       "  <tbody>\n",
       "    <tr>\n",
       "      <th>0</th>\n",
       "      <td>NaN</td>\n",
       "      <td>NaN</td>\n",
       "      <td>Maharashtra</td>\n",
       "      <td>India</td>\n",
       "      <td>19.20000</td>\n",
       "      <td>72.96667</td>\n",
       "      <td>23.05.2020</td>\n",
       "      <td>NaN</td>\n",
       "      <td>NaN</td>\n",
       "      <td>False</td>\n",
       "      <td>Hospitalized</td>\n",
       "      <td>NaN</td>\n",
       "    </tr>\n",
       "    <tr>\n",
       "      <th>1</th>\n",
       "      <td>NaN</td>\n",
       "      <td>NaN</td>\n",
       "      <td>Maharashtra</td>\n",
       "      <td>India</td>\n",
       "      <td>18.94017</td>\n",
       "      <td>72.83483</td>\n",
       "      <td>18.05.2020</td>\n",
       "      <td>NaN</td>\n",
       "      <td>https://t.me/indiacovid/5075</td>\n",
       "      <td>False</td>\n",
       "      <td>Recovered</td>\n",
       "      <td>NaN</td>\n",
       "    </tr>\n",
       "    <tr>\n",
       "      <th>2</th>\n",
       "      <td>NaN</td>\n",
       "      <td>NaN</td>\n",
       "      <td>Maharashtra</td>\n",
       "      <td>India</td>\n",
       "      <td>19.20000</td>\n",
       "      <td>72.96667</td>\n",
       "      <td>28.05.2020</td>\n",
       "      <td>NaN</td>\n",
       "      <td>https://phdmah.maps.arcgis.com/apps/opsdashboa...</td>\n",
       "      <td>False</td>\n",
       "      <td>Hospitalized</td>\n",
       "      <td>NaN</td>\n",
       "    </tr>\n",
       "    <tr>\n",
       "      <th>3</th>\n",
       "      <td>NaN</td>\n",
       "      <td>NaN</td>\n",
       "      <td>West Bengal</td>\n",
       "      <td>India</td>\n",
       "      <td>22.80862</td>\n",
       "      <td>88.79242</td>\n",
       "      <td>09.05.2020</td>\n",
       "      <td>NaN</td>\n",
       "      <td>https://www.wbhealth.gov.in/uploaded_files/cor...</td>\n",
       "      <td>False</td>\n",
       "      <td>Hospitalized</td>\n",
       "      <td>NaN</td>\n",
       "    </tr>\n",
       "    <tr>\n",
       "      <th>4</th>\n",
       "      <td>NaN</td>\n",
       "      <td>NaN</td>\n",
       "      <td>Maharashtra</td>\n",
       "      <td>India</td>\n",
       "      <td>18.94017</td>\n",
       "      <td>72.83483</td>\n",
       "      <td>17.05.2020</td>\n",
       "      <td>NaN</td>\n",
       "      <td>NaN</td>\n",
       "      <td>False</td>\n",
       "      <td>Hospitalized</td>\n",
       "      <td>NaN</td>\n",
       "    </tr>\n",
       "  </tbody>\n",
       "</table>\n",
       "</div>"
      ],
      "text/plain": [
       "   age  sex     province country  latitude  longitude date_confirmation  \\\n",
       "0  NaN  NaN  Maharashtra   India  19.20000   72.96667        23.05.2020   \n",
       "1  NaN  NaN  Maharashtra   India  18.94017   72.83483        18.05.2020   \n",
       "2  NaN  NaN  Maharashtra   India  19.20000   72.96667        28.05.2020   \n",
       "3  NaN  NaN  West Bengal   India  22.80862   88.79242        09.05.2020   \n",
       "4  NaN  NaN  Maharashtra   India  18.94017   72.83483        17.05.2020   \n",
       "\n",
       "  additional_information                                             source  \\\n",
       "0                    NaN                                                NaN   \n",
       "1                    NaN                       https://t.me/indiacovid/5075   \n",
       "2                    NaN  https://phdmah.maps.arcgis.com/apps/opsdashboa...   \n",
       "3                    NaN  https://www.wbhealth.gov.in/uploaded_files/cor...   \n",
       "4                    NaN                                                NaN   \n",
       "\n",
       "   chronic_disease_binary       outcome  outcome_group  \n",
       "0                   False  Hospitalized            NaN  \n",
       "1                   False     Recovered            NaN  \n",
       "2                   False  Hospitalized            NaN  \n",
       "3                   False  Hospitalized            NaN  \n",
       "4                   False  Hospitalized            NaN  "
      ]
     },
     "execution_count": 2,
     "metadata": {},
     "output_type": "execute_result"
    }
   ],
   "source": [
    "cases_train = pd.read_csv('../data/cases_2021_train.csv')\n",
    "cases_train.head()"
   ]
  },
  {
   "cell_type": "markdown",
   "metadata": {},
   "source": [
    "2. Outcome Distribution"
   ]
  },
  {
   "cell_type": "code",
   "execution_count": 3,
   "metadata": {},
   "outputs": [
    {
     "data": {
      "text/plain": [
       "outcome\n",
       "Alive                               127\n",
       "Dead                                  9\n",
       "Death                                 4\n",
       "Deceased                           3361\n",
       "Died                                  4\n",
       "Discharged                            2\n",
       "Discharged from hospital              3\n",
       "Hospitalized                     135524\n",
       "Receiving Treatment                 183\n",
       "Recovered                         62875\n",
       "Stable                               24\n",
       "Under treatment                     243\n",
       "critical condition                    1\n",
       "death                                29\n",
       "died                                624\n",
       "discharge                           114\n",
       "discharged                           82\n",
       "recovered                          2435\n",
       "recovering at home 03.03.2020         2\n",
       "released from quarantine              3\n",
       "stable                              107\n",
       "stable condition                     90\n",
       "dtype: int64"
      ]
     },
     "execution_count": 3,
     "metadata": {},
     "output_type": "execute_result"
    }
   ],
   "source": [
    "cases_train.groupby('outcome').size()"
   ]
  },
  {
   "cell_type": "markdown",
   "metadata": {},
   "source": [
    "3. Filling Outcome_Group \n"
   ]
  },
  {
   "cell_type": "code",
   "execution_count": 4,
   "metadata": {
    "scrolled": false
   },
   "outputs": [
    {
     "name": "stdout",
     "output_type": "stream",
     "text": [
      "outcome_group\n",
      "deceased             4031\n",
      "hospitalized       135726\n",
      "nonhospitalized       779\n",
      "recovered           65310\n",
      "dtype: int64\n"
     ]
    },
    {
     "data": {
      "text/html": [
       "<div>\n",
       "<style scoped>\n",
       "    .dataframe tbody tr th:only-of-type {\n",
       "        vertical-align: middle;\n",
       "    }\n",
       "\n",
       "    .dataframe tbody tr th {\n",
       "        vertical-align: top;\n",
       "    }\n",
       "\n",
       "    .dataframe thead th {\n",
       "        text-align: right;\n",
       "    }\n",
       "</style>\n",
       "<table border=\"1\" class=\"dataframe\">\n",
       "  <thead>\n",
       "    <tr style=\"text-align: right;\">\n",
       "      <th></th>\n",
       "      <th>age</th>\n",
       "      <th>sex</th>\n",
       "      <th>province</th>\n",
       "      <th>country</th>\n",
       "      <th>latitude</th>\n",
       "      <th>longitude</th>\n",
       "      <th>date_confirmation</th>\n",
       "      <th>additional_information</th>\n",
       "      <th>source</th>\n",
       "      <th>chronic_disease_binary</th>\n",
       "      <th>outcome_group</th>\n",
       "    </tr>\n",
       "  </thead>\n",
       "  <tbody>\n",
       "    <tr>\n",
       "      <th>0</th>\n",
       "      <td>NaN</td>\n",
       "      <td>NaN</td>\n",
       "      <td>Maharashtra</td>\n",
       "      <td>India</td>\n",
       "      <td>19.20000</td>\n",
       "      <td>72.96667</td>\n",
       "      <td>23.05.2020</td>\n",
       "      <td>NaN</td>\n",
       "      <td>NaN</td>\n",
       "      <td>False</td>\n",
       "      <td>hospitalized</td>\n",
       "    </tr>\n",
       "    <tr>\n",
       "      <th>1</th>\n",
       "      <td>NaN</td>\n",
       "      <td>NaN</td>\n",
       "      <td>Maharashtra</td>\n",
       "      <td>India</td>\n",
       "      <td>18.94017</td>\n",
       "      <td>72.83483</td>\n",
       "      <td>18.05.2020</td>\n",
       "      <td>NaN</td>\n",
       "      <td>https://t.me/indiacovid/5075</td>\n",
       "      <td>False</td>\n",
       "      <td>recovered</td>\n",
       "    </tr>\n",
       "    <tr>\n",
       "      <th>2</th>\n",
       "      <td>NaN</td>\n",
       "      <td>NaN</td>\n",
       "      <td>Maharashtra</td>\n",
       "      <td>India</td>\n",
       "      <td>19.20000</td>\n",
       "      <td>72.96667</td>\n",
       "      <td>28.05.2020</td>\n",
       "      <td>NaN</td>\n",
       "      <td>https://phdmah.maps.arcgis.com/apps/opsdashboa...</td>\n",
       "      <td>False</td>\n",
       "      <td>hospitalized</td>\n",
       "    </tr>\n",
       "    <tr>\n",
       "      <th>3</th>\n",
       "      <td>NaN</td>\n",
       "      <td>NaN</td>\n",
       "      <td>West Bengal</td>\n",
       "      <td>India</td>\n",
       "      <td>22.80862</td>\n",
       "      <td>88.79242</td>\n",
       "      <td>09.05.2020</td>\n",
       "      <td>NaN</td>\n",
       "      <td>https://www.wbhealth.gov.in/uploaded_files/cor...</td>\n",
       "      <td>False</td>\n",
       "      <td>hospitalized</td>\n",
       "    </tr>\n",
       "    <tr>\n",
       "      <th>4</th>\n",
       "      <td>NaN</td>\n",
       "      <td>NaN</td>\n",
       "      <td>Maharashtra</td>\n",
       "      <td>India</td>\n",
       "      <td>18.94017</td>\n",
       "      <td>72.83483</td>\n",
       "      <td>17.05.2020</td>\n",
       "      <td>NaN</td>\n",
       "      <td>NaN</td>\n",
       "      <td>False</td>\n",
       "      <td>hospitalized</td>\n",
       "    </tr>\n",
       "  </tbody>\n",
       "</table>\n",
       "</div>"
      ],
      "text/plain": [
       "   age  sex     province country  latitude  longitude date_confirmation  \\\n",
       "0  NaN  NaN  Maharashtra   India  19.20000   72.96667        23.05.2020   \n",
       "1  NaN  NaN  Maharashtra   India  18.94017   72.83483        18.05.2020   \n",
       "2  NaN  NaN  Maharashtra   India  19.20000   72.96667        28.05.2020   \n",
       "3  NaN  NaN  West Bengal   India  22.80862   88.79242        09.05.2020   \n",
       "4  NaN  NaN  Maharashtra   India  18.94017   72.83483        17.05.2020   \n",
       "\n",
       "  additional_information                                             source  \\\n",
       "0                    NaN                                                NaN   \n",
       "1                    NaN                       https://t.me/indiacovid/5075   \n",
       "2                    NaN  https://phdmah.maps.arcgis.com/apps/opsdashboa...   \n",
       "3                    NaN  https://www.wbhealth.gov.in/uploaded_files/cor...   \n",
       "4                    NaN                                                NaN   \n",
       "\n",
       "   chronic_disease_binary outcome_group  \n",
       "0                   False  hospitalized  \n",
       "1                   False     recovered  \n",
       "2                   False  hospitalized  \n",
       "3                   False  hospitalized  \n",
       "4                   False  hospitalized  "
      ]
     },
     "execution_count": 4,
     "metadata": {},
     "output_type": "execute_result"
    }
   ],
   "source": [
    "hospitalzed = ['Discharged', 'Discharged from hospital', 'Hospitalized', 'critical condition',\n",
    "'discharge', 'discharged']\n",
    "nonhospitalized = ['Alive', 'Receiving Treatment', 'Stable', 'Under treatment', 'recovering at home 03.03.2020', 'released from quarantine', 'stable', 'stable condition']\n",
    "deceased = ['Dead', 'Death', 'Deceased', 'Died', 'death', 'died']\n",
    "recovered = ['Recovered','recovered']\n",
    "cases_train.loc[cases_train[\"outcome\"].isin(hospitalzed), \"outcome_group\"] ='hospitalized'\n",
    "cases_train.loc[cases_train[\"outcome\"].isin(nonhospitalized), \"outcome_group\"] ='nonhospitalized'\n",
    "cases_train.loc[cases_train[\"outcome\"].isin(deceased), \"outcome_group\"] ='deceased'\n",
    "cases_train.loc[cases_train[\"outcome\"].isin(recovered), \"outcome_group\"] ='recovered'\n",
    "print(cases_train.groupby('outcome_group').size())\n",
    "cases_train = cases_train.drop(columns=\"outcome\")\n",
    "cases_train.head()"
   ]
  },
  {
   "cell_type": "markdown",
   "metadata": {},
   "source": [
    "# Task 1.3 - Train data analysis"
   ]
  },
  {
   "cell_type": "code",
   "execution_count": 5,
   "metadata": {},
   "outputs": [],
   "source": [
    "by_day=cases_train['date_confirmation'].value_counts().rename_axis('date').reset_index(name='counts')\n",
    "\n",
    "by_day['date']=pd.to_datetime(by_day['date'], errors='coerce',infer_datetime_format=True)\n",
    "by_day['counts']=by_day['counts'].astype(int)\n",
    "\n",
    "by_day=by_day.sort_values(by='date')"
   ]
  },
  {
   "cell_type": "code",
   "execution_count": 6,
   "metadata": {},
   "outputs": [],
   "source": [
    "by_day=by_day.dropna(axis=0)"
   ]
  },
  {
   "cell_type": "code",
   "execution_count": 7,
   "metadata": {},
   "outputs": [],
   "source": [
    "totals=[]\n",
    "totals.append(by_day['counts'].iloc[0])\n",
    "for i in range(1,137):\n",
    "       totals.append(totals[i-1]+by_day['counts'].iloc[i])"
   ]
  },
  {
   "cell_type": "code",
   "execution_count": 8,
   "metadata": {},
   "outputs": [],
   "source": [
    "by_day['totals']=totals"
   ]
  },
  {
   "cell_type": "code",
   "execution_count": 9,
   "metadata": {},
   "outputs": [
    {
     "data": {
      "text/html": [
       "<div>\n",
       "<style scoped>\n",
       "    .dataframe tbody tr th:only-of-type {\n",
       "        vertical-align: middle;\n",
       "    }\n",
       "\n",
       "    .dataframe tbody tr th {\n",
       "        vertical-align: top;\n",
       "    }\n",
       "\n",
       "    .dataframe thead th {\n",
       "        text-align: right;\n",
       "    }\n",
       "</style>\n",
       "<table border=\"1\" class=\"dataframe\">\n",
       "  <thead>\n",
       "    <tr style=\"text-align: right;\">\n",
       "      <th></th>\n",
       "      <th>date</th>\n",
       "      <th>counts</th>\n",
       "      <th>totals</th>\n",
       "    </tr>\n",
       "  </thead>\n",
       "  <tbody>\n",
       "    <tr>\n",
       "      <th>126</th>\n",
       "      <td>2020-01-06</td>\n",
       "      <td>2</td>\n",
       "      <td>2</td>\n",
       "    </tr>\n",
       "    <tr>\n",
       "      <th>130</th>\n",
       "      <td>2020-01-15</td>\n",
       "      <td>1</td>\n",
       "      <td>3</td>\n",
       "    </tr>\n",
       "    <tr>\n",
       "      <th>129</th>\n",
       "      <td>2020-01-18</td>\n",
       "      <td>1</td>\n",
       "      <td>4</td>\n",
       "    </tr>\n",
       "    <tr>\n",
       "      <th>133</th>\n",
       "      <td>2020-01-20</td>\n",
       "      <td>1</td>\n",
       "      <td>5</td>\n",
       "    </tr>\n",
       "    <tr>\n",
       "      <th>123</th>\n",
       "      <td>2020-01-21</td>\n",
       "      <td>3</td>\n",
       "      <td>8</td>\n",
       "    </tr>\n",
       "    <tr>\n",
       "      <th>...</th>\n",
       "      <td>...</td>\n",
       "      <td>...</td>\n",
       "      <td>...</td>\n",
       "    </tr>\n",
       "    <tr>\n",
       "      <th>3</th>\n",
       "      <td>2020-05-30</td>\n",
       "      <td>8710</td>\n",
       "      <td>189078</td>\n",
       "    </tr>\n",
       "    <tr>\n",
       "      <th>1</th>\n",
       "      <td>2020-05-31</td>\n",
       "      <td>9413</td>\n",
       "      <td>198491</td>\n",
       "    </tr>\n",
       "    <tr>\n",
       "      <th>6</th>\n",
       "      <td>2020-06-01</td>\n",
       "      <td>7297</td>\n",
       "      <td>205788</td>\n",
       "    </tr>\n",
       "    <tr>\n",
       "      <th>124</th>\n",
       "      <td>2020-06-02</td>\n",
       "      <td>2</td>\n",
       "      <td>205790</td>\n",
       "    </tr>\n",
       "    <tr>\n",
       "      <th>119</th>\n",
       "      <td>2020-06-03</td>\n",
       "      <td>4</td>\n",
       "      <td>205794</td>\n",
       "    </tr>\n",
       "  </tbody>\n",
       "</table>\n",
       "<p>137 rows × 3 columns</p>\n",
       "</div>"
      ],
      "text/plain": [
       "          date  counts  totals\n",
       "126 2020-01-06       2       2\n",
       "130 2020-01-15       1       3\n",
       "129 2020-01-18       1       4\n",
       "133 2020-01-20       1       5\n",
       "123 2020-01-21       3       8\n",
       "..         ...     ...     ...\n",
       "3   2020-05-30    8710  189078\n",
       "1   2020-05-31    9413  198491\n",
       "6   2020-06-01    7297  205788\n",
       "124 2020-06-02       2  205790\n",
       "119 2020-06-03       4  205794\n",
       "\n",
       "[137 rows x 3 columns]"
      ]
     },
     "execution_count": 9,
     "metadata": {},
     "output_type": "execute_result"
    }
   ],
   "source": [
    "by_day"
   ]
  },
  {
   "cell_type": "code",
   "execution_count": 10,
   "metadata": {},
   "outputs": [
    {
     "data": {
      "image/png": "[encoded data removed]",
      "text/plain": [
       "<Figure size 432x288 with 1 Axes>"
      ]
     },
     "metadata": {
      "needs_background": "light"
     },
     "output_type": "display_data"
    }
   ],
   "source": [
    "plt.plot(by_day['date'],by_day['counts'])\n",
    "plt.show()"
   ]
  },
  {
   "cell_type": "code",
   "execution_count": 11,
   "metadata": {},
   "outputs": [
    {
     "data": {
      "text/plain": [
       "[<matplotlib.lines.Line2D at 0x7f884dcd3e90>]"
      ]
     },
     "execution_count": 11,
     "metadata": {},
     "output_type": "execute_result"
    },
    {
     "data": {
      "image/png": "[encoded data removed]",
      "text/plain": [
       "<Figure size 432x288 with 1 Axes>"
      ]
     },
     "metadata": {
      "needs_background": "light"
     },
     "output_type": "display_data"
    }
   ],
   "source": [
    "plt.plot(by_day['date'],by_day['totals'])"
   ]
  },
  {
   "cell_type": "code",
   "execution_count": null,
   "metadata": {},
   "outputs": [],
   "source": []
  }
 ],
 "metadata": {
  "interpreter": {
   "hash": "a5f2fe64a01ade51df13e149dbdf251b7a9f0bed0f582738ebc409b556af8acf"
  },
  "kernelspec": {
   "display_name": "Python 3 (ipykernel)",
   "language": "python",
   "name": "python3"
  },
  "language_info": {
   "codemirror_mode": {
    "name": "ipython",
    "version": 3
   },
   "file_extension": ".py",
   "mimetype": "text/x-python",
   "name": "python",
   "nbconvert_exporter": "python",
   "pygments_lexer": "ipython3",
   "version": "3.7.11"
  }
 },
 "nbformat": 4,
 "nbformat_minor": 2
}
